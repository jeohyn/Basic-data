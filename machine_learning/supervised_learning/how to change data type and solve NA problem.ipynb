#change data type
#https://raw.githubusercontent.com/blackdew/tensorflow1/master/csv/iris2.csv
#check data type: data.dtypes
#change variable to categorical variable: data_name['column_name'].astype('category')
#change variable to numerical variable: data_name['coulmn_name'].astype('int')
#data_name['column_name'].astype('float')

#Handle NA
#check the number of NA: data_name.isna().sum()
#fill NA value: data_name['column_name'].fillna(specific_number)

import pandas as pd

filename='https://raw.githubusercontent.com/blackdew/tensorflow1/master/csv/iris2.csv'
iris=pd.read_csv(filename)
iris.head()

#One-Hot Encoding
#table is filled with number,so there's no difference between categorical and numberical in one-hot encoding
incoding=pd.get_dummies(iris)
incoding.head()

#print data type
#execute one-hot encoding only data type is categorical or object
print(iris.dtypes)

#change species type to categorical
iris['Species']=iris['Species'].astype('category')
print(iris.dtypes)

incoding=pd.get_dummies(iris)
incoding.head()

#####
#check NA
iris.isna().sum()
iris.tail()

#NA값에 꽃잎폭 평균값 넣어주기
#put mean of Petal Width in NA 
mean=iris['PetalWidthh'].mean()
iris['PetalWidth']=iris['꽃잎폭'].fillna(mean)
iris.tail()
